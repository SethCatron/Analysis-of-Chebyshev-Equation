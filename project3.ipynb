{
 "cells": [
  {
   "cell_type": "markdown",
   "metadata": {},
   "source": [
    "# Project 3\n",
    "\n",
    "This project is going to deal with the [*Chebyshev Equation*](https://en.wikipedia.org/wiki/Chebyshev_equation):\n",
    "\n",
    "$$\n",
    "(1-t^2)x''(t) - tx'(t) + \\alpha^2 x(t) = 0.\n",
    "$$\n",
    "\n",
    "From the theory we learned in class, we know that we can expand this as a power series centered at \n",
    "$t_0 = 0$ on (at least) the interval $(-1,1)$. That is, we can write the general solution as: \n",
    "$$\n",
    "x(t) = \\sum_{k=0}^{\\infty}a_kt^{k},\n",
    "$$\n",
    "where the coefficients $a_0,a_1$ are arbitrary and satisfy $x(0)=a_0$ and $x'(0)=a_1$. \n",
    "\n",
    "The first part of the project is to determine the recurance relation that the coefficients satisfy. Do that\n",
    "and write your answer below. (No need to use complete sentences -- just make sure the right hand side is \n",
    "what it should be). "
   ]
  },
  {
   "cell_type": "markdown",
   "metadata": {},
   "source": [
    "The recurance relation that the coefficients satisfiy is (click in this cell and press Enter to be able to \n",
    "edit this cell): \n",
    "$$\n",
    "a_{k+2} = \\frac{(k - 𝛼)(k + 𝛼)}{(k + 1)(k + 2)}a_{k}.\n",
    "$$\n",
    "\n",
    "We can also write this as: \n",
    "\n",
    "$$\n",
    "a_{k} = \\frac{(k - 2)^2 - 𝛼^2}{(k - 1)(k)}a_{k-2}.\n",
    "$$"
   ]
  },
  {
   "cell_type": "markdown",
   "metadata": {},
   "source": [
    "Below, write a function that returns $a_{k}$ given $a_{k-2}$. Below, the parameter ```a``` is for $\\alpha$. \n",
    "Only edit the parts that say ```#Put something here```."
   ]
  },
  {
   "cell_type": "code",
   "execution_count": 2,
   "metadata": {},
   "outputs": [],
   "source": [
    "from sympy import *\n",
    "from numpy import *\n",
    "\n",
    "def A(k, a, a0, a1):\n",
    "    #Put your code below here. I've given you a head start: \n",
    "    \n",
    "    if k == 0: \n",
    "        return a0  # x(0) = a0\n",
    "    \n",
    "    if k == 1:\n",
    "        return a1  # x'(0) = a1\n",
    "    \n",
    "    return (((k - 2)**2 - a**2) / ((k-1)*(k)))*A(k-2, a, a0, a1) # From equation above\n"
   ]
  },
  {
   "cell_type": "markdown",
   "metadata": {},
   "source": [
    "Your answer above should have the parameter $\\alpha^2$ in it (if it doesn't - go back and see where you made \n",
    "a mistake.) There are two observations. First, the even indexed coeffcients depend only on the previous indexed \n",
    "coeffcients (e.g. $a_4$ depends on $a_2$ and implcitly $a_0$ but is independent of $a_1$ and $a_3$). \n",
    "Similarly, the odd indexed coefficients depend only on the previous odd indexed coefficients. Thus, we can \n",
    "write the power series for $x$ as: \n",
    "$$\n",
    "x(t) = \\sum_{n=0}^{\\infty}a_{2n}t^{2n} + \\sum_{n=0}^{\\infty}a_{2n+1}t^{2n+1}\n",
    "=: x_{E}(t) + x_{O}(t), \n",
    "$$\n",
    "where:\n",
    "$$\n",
    "x_{E}(t) := \\sum_{n=0}^{\\infty}a_{2n}t^{2n} \n",
    "\\hspace{.5in}\n",
    "\\hspace{.5in} \n",
    "x_{O}(t) := \\sum_{n=0}^{\\infty}a_{2n+1}t^{2n+1}.\n",
    "$$\n",
    "\n",
    "For some values of $\\alpha$, $x_{E}(t)$ will be a polynomial. For some values of $\\alpha$, $x_{O}(t)$ will be \n",
    "a polynomial. Determine these values of $\\alpha$ and the degree of the polynomial. "
   ]
  },
  {
   "cell_type": "markdown",
   "metadata": {},
   "source": [
    "When $\\alpha$ is (**EVEN**) then $x_{E}(t)$ is a polynomial of degree (**2n**). \n",
    "\n",
    "When $\\alpha$ is (**ODD**) then $x_{O}(t)$ is a polynomial of degree (**2n + 1**). "
   ]
  },
  {
   "cell_type": "markdown",
   "metadata": {},
   "source": [
    "For the rest of the project, we are going to set $\\alpha = 3$. We will solve the initial value problem: \n",
    "$$\n",
    "(1-t^2)x''(t) - tx'(t) + 9x(t) = 0, \n",
    "\\hspace{,5in}\n",
    "x(0) = x_0, \n",
    "\\hspace{.25in}\n",
    "x'(t) = x_0'\n",
    "$$\n",
    "using series solutions. Actually, in general, the solution is a series and we will just take a finite number \n",
    "of terms in the series - in other words, we are approximating the solution with its Taylor polynomial. \n",
    "\n",
    "Let $P_{N}(t)$ be the $n$ degree taylor polynomial for the solution to the IVP: \n",
    "$$\n",
    "(1-t^2)x''(t) - tx'(t) + 9x(t) = 0, \n",
    "\\hspace{,5in}\n",
    "x(0) = 1, \n",
    "\\hspace{.25in}\n",
    "x'(t) = 1.\n",
    "$$\n",
    "(That is, $P_{N}(t) = \\sum_{k=0}^{N}a_kt^k$). Below, plot $P_{3}(t)$ and $P_{4}(t)$. "
   ]
  },
  {
   "cell_type": "code",
   "execution_count": 3,
   "metadata": {},
   "outputs": [
    {
     "data": {
      "text/plain": [
       "[<matplotlib.lines.Line2D at 0x7fd41247e128>]"
      ]
     },
     "execution_count": 3,
     "metadata": {},
     "output_type": "execute_result"
    }
   ],
   "source": [
    "import numpy as np \n",
    "import matplotlib.pyplot as plt\n",
    "\n",
    "# The T vector represents the horizontal axis; the h value is the the distance betwen t values. \n",
    "# We want to plot the solution on (-1,1) with an h value of .01. Pick the correct parameters to \n",
    "# put in the np.arange() function\n",
    "h = .01\n",
    "T = np.arange(-1, 1+h, h)\n",
    "    \n",
    "#P3 is the third degree Taylor polynomial. \n",
    "P3 =  A(1, 3, 1, 1)*T + A(3, 3, 1, 1)*T**3 \n",
    "\n",
    "#P4 is the fourth degree Taylor polynomial. \n",
    "P4 =  A(0, 3, 1, 1) + A(2, 3, 1, 1)*T**2 + A(4, 3, 1, 1)*T**4\n",
    "    \n",
    "plt.figure()\n",
    "plt.title('Taylor Approximations')\n",
    "plt.plot(T, P3)\n",
    "plt.plot(T, P4)"
   ]
  },
  {
   "cell_type": "markdown",
   "metadata": {},
   "source": [
    "Next, consider the IVP: \n",
    "$$\n",
    "(1-t^2)x''(t) - tx'(t) + 9x(t) = 0, \n",
    "\\hspace{,5in}\n",
    "x(0) = 0, \n",
    "\\hspace{.25in}\n",
    "x'(t) = 1.\n",
    "$$\n",
    "\n",
    "It turns out that the solution is a polynomial. Below, plot the solution. Your expression for ```P``` should \n",
    "only include the terms that are relevant (e.g. if the solution is a tenth degree polynomial with only the even \n",
    "terms, your expression shouldn't have the odd terms or any terms after the tenth.)"
   ]
  },
  {
   "cell_type": "code",
   "execution_count": 33,
   "metadata": {},
   "outputs": [
    {
     "data": {
      "text/plain": [
       "[<matplotlib.lines.Line2D at 0x7f8c3bb5e400>]"
      ]
     },
     "execution_count": 33,
     "metadata": {},
     "output_type": "execute_result"
    },
    {
     "data": {
      "image/png": "[encoded data removed]",
      "text/plain": [
       "<Figure size 432x288 with 1 Axes>"
      ]
     },
     "metadata": {
      "needs_background": "light"
     },
     "output_type": "display_data"
    }
   ],
   "source": [
    "# The T vector represents the horizontal axis; the h value is the the distance betwen t values. \n",
    "# We want to plot the solution on (-1,1) with an h value of .01. Pick the correct parameters to \n",
    "# put in the np.arange() function\n",
    "h = .01\n",
    "T = np.arange(-1, 1+h, h)\n",
    "    \n",
    "#P is the solution \n",
    "# The degree of the polynomial P is 3 because the a is specified to be 3\n",
    "# Since x(0) = 0 we know that the polynomial here is an odd degree \n",
    "P = A(1, 3, 0, 1)*T + A(3, 3, 0, 1)*T**3 # do not include the even terms in this since they have no influence on graph\n",
    "\n",
    "plt.figure()\n",
    "plt.title('Solution')\n",
    "plt.plot(T, P)"
   ]
  },
  {
   "cell_type": "markdown",
   "metadata": {},
   "source": [
    "# Grading \n",
    "There are $10$ different places for you to write something. Each one is 5 points. It will be graded as: \n",
    "1. Correctness (is correct output produced / is the answer correct?) - 4 pts \n",
    "2. Is the fomat correct (i.e. in the lines that say something like ```#your code here``` is the code in the right spot? Also - is that the only part that was modified?) - 1 pt\n",
    "\n",
    "Note that for the code portions, you may *only* modify the lines that have ```#your code here``` or something\n",
    "similar. And you code should be on that one line. Let me know if you have questions about what I mean by \n",
    "that. Also, *YOU MUST RUN YOUR CODE*. So I should see your plots from above, etc.\n",
    "\n",
    "TO TURN IN: Click File -> Download as -> PDF via LaTeX (.pdf). If there is a problem, it is probably because \n",
    "the way you typed in your answers for the \"YOUR NUMERATOR HERE\" or \"YOUR DENOMINATOR HERE\" parts. Or the part \n",
    "where you determine which series is a polynomial based on $\\alpha$. Please try to fix that. If you can't then \n",
    "you can do File -> Download as -> HTML (.html). *And then print that as a pdf from your browser* and turn that in."
   ]
  },
  {
   "cell_type": "code",
   "execution_count": null,
   "metadata": {},
   "outputs": [],
   "source": []
  }
 ],
 "metadata": {
  "kernelspec": {
   "display_name": "Python 3",
   "language": "python",
   "name": "python3"
  },
  "language_info": {
   "codemirror_mode": {
    "name": "ipython",
    "version": 3
   },
   "file_extension": ".py",
   "mimetype": "text/x-python",
   "name": "python",
   "nbconvert_exporter": "python",
   "pygments_lexer": "ipython3",
   "version": "3.7.3"
  }
 },
 "nbformat": 4,
 "nbformat_minor": 4
}
